{
 "cells": [
  {
   "cell_type": "code",
   "execution_count": 1,
   "id": "a68c362b-4b8a-4e75-9b7a-ae255289f0e2",
   "metadata": {},
   "outputs": [],
   "source": [
    "import numpy as np\n",
    "import matplotlib.pyplot as plt"
   ]
  },
  {
   "cell_type": "code",
   "execution_count": 12,
   "id": "1dca792e-5818-400a-858f-7adc1656fffd",
   "metadata": {},
   "outputs": [],
   "source": [
    "import warnings\n",
    "warnings.filterwarnings(\"ignore\")"
   ]
  },
  {
   "cell_type": "code",
   "execution_count": 13,
   "id": "96e0cc50-f51a-4c57-993b-68fd23d403c7",
   "metadata": {},
   "outputs": [],
   "source": [
    "x = np.arange(-5,0, 0.25)"
   ]
  },
  {
   "cell_type": "code",
   "execution_count": 14,
   "id": "61344d7c-798c-4d10-a4e1-d36d2060a056",
   "metadata": {},
   "outputs": [
    {
     "data": {
      "text/plain": [
       "array([-5.  , -4.75, -4.5 , -4.25, -4.  , -3.75, -3.5 , -3.25, -3.  ,\n",
       "       -2.75, -2.5 , -2.25, -2.  , -1.75, -1.5 , -1.25, -1.  , -0.75,\n",
       "       -0.5 , -0.25])"
      ]
     },
     "execution_count": 14,
     "metadata": {},
     "output_type": "execute_result"
    }
   ],
   "source": [
    "x"
   ]
  },
  {
   "cell_type": "code",
   "execution_count": 15,
   "id": "f7b7954e-c6d0-4507-8bce-6ed1e8c18a38",
   "metadata": {},
   "outputs": [],
   "source": [
    "# poly equation\n",
    "\n",
    "y = 4.5 * (x**4.5) + 34"
   ]
  },
  {
   "cell_type": "code",
   "execution_count": null,
   "id": "94ae41c6-32ec-490a-ac6c-468f71c09a67",
   "metadata": {},
   "outputs": [],
   "source": []
  }
 ],
 "metadata": {
  "kernelspec": {
   "display_name": "Python 3 (ipykernel)",
   "language": "python",
   "name": "python3"
  },
  "language_info": {
   "codemirror_mode": {
    "name": "ipython",
    "version": 3
   },
   "file_extension": ".py",
   "mimetype": "text/x-python",
   "name": "python",
   "nbconvert_exporter": "python",
   "pygments_lexer": "ipython3",
   "version": "3.13.1"
  }
 },
 "nbformat": 4,
 "nbformat_minor": 5
}
