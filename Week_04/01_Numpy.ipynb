{
 "cells": [
  {
   "cell_type": "code",
   "execution_count": 1,
   "id": "d7a24c60-d59a-4308-8c51-78e4879bb6fb",
   "metadata": {},
   "outputs": [],
   "source": [
    "import numpy as np"
   ]
  },
  {
   "cell_type": "code",
   "execution_count": 13,
   "id": "22c6e169-6377-4b7b-805f-13806d6fec01",
   "metadata": {},
   "outputs": [],
   "source": [
    "arr = np.array([23, 45, 67, 89,45, 10])"
   ]
  },
  {
   "cell_type": "code",
   "execution_count": 14,
   "id": "7f1511c9-154d-4f2e-a63f-421b2d982d8a",
   "metadata": {},
   "outputs": [
    {
     "name": "stdout",
     "output_type": "stream",
     "text": [
      "[23 45 67 89 45 10]\n"
     ]
    }
   ],
   "source": [
    "print(arr)"
   ]
  },
  {
   "cell_type": "code",
   "execution_count": 15,
   "id": "3d003a3e-12d8-4d50-bc6d-d918a76c0924",
   "metadata": {},
   "outputs": [
    {
     "data": {
      "text/plain": [
       "array([23, 45, 67, 89, 45, 10])"
      ]
     },
     "execution_count": 15,
     "metadata": {},
     "output_type": "execute_result"
    }
   ],
   "source": [
    "arr"
   ]
  },
  {
   "cell_type": "code",
   "execution_count": 16,
   "id": "8ffd3d3b-fa81-4aec-b6e3-e932f9d41003",
   "metadata": {},
   "outputs": [
    {
     "data": {
      "text/plain": [
       "numpy.ndarray"
      ]
     },
     "execution_count": 16,
     "metadata": {},
     "output_type": "execute_result"
    }
   ],
   "source": [
    "type(arr)"
   ]
  },
  {
   "cell_type": "code",
   "execution_count": 17,
   "id": "603e807c-2624-46f1-a2fa-e6f86a089ae5",
   "metadata": {},
   "outputs": [
    {
     "data": {
      "text/plain": [
       "np.int64(67)"
      ]
     },
     "execution_count": 17,
     "metadata": {},
     "output_type": "execute_result"
    }
   ],
   "source": [
    "arr[2]"
   ]
  },
  {
   "cell_type": "code",
   "execution_count": 18,
   "id": "b61afdef-f5a5-45a9-952a-1f0c44804ae5",
   "metadata": {},
   "outputs": [],
   "source": [
    "arr[3] = 40"
   ]
  },
  {
   "cell_type": "code",
   "execution_count": 19,
   "id": "860345f9-01c6-456d-8690-d65edad604f5",
   "metadata": {},
   "outputs": [
    {
     "data": {
      "text/plain": [
       "array([23, 45, 67, 40, 45, 10])"
      ]
     },
     "execution_count": 19,
     "metadata": {},
     "output_type": "execute_result"
    }
   ],
   "source": [
    "arr"
   ]
  },
  {
   "cell_type": "code",
   "execution_count": 9,
   "id": "9da1a8b4-1f98-45b0-8cbf-8965569ddf8a",
   "metadata": {},
   "outputs": [],
   "source": [
    "arr[2] = 40 "
   ]
  },
  {
   "cell_type": "code",
   "execution_count": 10,
   "id": "aac34bc4-220f-431d-b54b-b0eb3846bf7f",
   "metadata": {},
   "outputs": [
    {
     "data": {
      "text/plain": [
       "array([23, 45, 40, 40, 10])"
      ]
     },
     "execution_count": 10,
     "metadata": {},
     "output_type": "execute_result"
    }
   ],
   "source": [
    "arr"
   ]
  },
  {
   "cell_type": "code",
   "execution_count": 22,
   "id": "81652ddd-4a8f-4383-ac11-60453e50dd66",
   "metadata": {},
   "outputs": [],
   "source": [
    "arr = np.array([23, 45, 67, 89.45, 45, True, \"pune\", 10])"
   ]
  },
  {
   "cell_type": "code",
   "execution_count": 23,
   "id": "e4e29500-de49-43d9-bdfe-511e697c4156",
   "metadata": {},
   "outputs": [
    {
     "data": {
      "text/plain": [
       "array(['23', '45', '67', '89.45', '45', 'True', 'pune', '10'],\n",
       "      dtype='<U32')"
      ]
     },
     "execution_count": 23,
     "metadata": {},
     "output_type": "execute_result"
    }
   ],
   "source": [
    "arr"
   ]
  },
  {
   "cell_type": "code",
   "execution_count": 24,
   "id": "c2e59af6-891a-4b21-8d95-4ca5f08c2005",
   "metadata": {},
   "outputs": [
    {
     "data": {
      "text/plain": [
       "dtype('<U32')"
      ]
     },
     "execution_count": 24,
     "metadata": {},
     "output_type": "execute_result"
    }
   ],
   "source": [
    "arr.dtype"
   ]
  },
  {
   "cell_type": "code",
   "execution_count": 26,
   "id": "5fcf1916-a6e1-48d4-9d45-c30070dde023",
   "metadata": {},
   "outputs": [
    {
     "data": {
      "text/plain": [
       "array(['23', '45', '67', '89.45', '45', 'True', 'pune', '10'],\n",
       "      dtype='<U32')"
      ]
     },
     "execution_count": 26,
     "metadata": {},
     "output_type": "execute_result"
    }
   ],
   "source": [
    "arr "
   ]
  },
  {
   "cell_type": "code",
   "execution_count": 89,
   "id": "955dd7b5-3fd4-426e-a10b-7ff594ea0fd2",
   "metadata": {},
   "outputs": [
    {
     "data": {
      "text/plain": [
       "array([[ 2,  4,  6],\n",
       "       [ 8,  4, 10],\n",
       "       [12, 18,  8],\n",
       "       [12,  6, 18]])"
      ]
     },
     "execution_count": 89,
     "metadata": {},
     "output_type": "execute_result"
    }
   ],
   "source": [
    "arr *2"
   ]
  },
  {
   "cell_type": "markdown",
   "id": "75658e3c-706f-4340-8458-73a16dec3b8b",
   "metadata": {},
   "source": [
    "Check whch one is faster......array/list"
   ]
  },
  {
   "cell_type": "code",
   "execution_count": 28,
   "id": "c3d107b8-93ac-4351-ae81-c6218fbb3e82",
   "metadata": {},
   "outputs": [],
   "source": [
    "import time"
   ]
  },
  {
   "cell_type": "code",
   "execution_count": 30,
   "id": "b1a13f4a-0a43-4868-939b-7adbc5e7269e",
   "metadata": {},
   "outputs": [
    {
     "data": {
      "text/plain": [
       "1750657539.3338916"
      ]
     },
     "execution_count": 30,
     "metadata": {},
     "output_type": "execute_result"
    }
   ],
   "source": [
    "time.time()"
   ]
  },
  {
   "cell_type": "code",
   "execution_count": 31,
   "id": "cfd147c1-67fd-4fe5-abd5-dbfeb7b2643b",
   "metadata": {},
   "outputs": [],
   "source": [
    "s = 100000\n",
    "\n",
    "list1 = list(range(s))\n",
    "\n",
    "arr1 = np.array(list1)"
   ]
  },
  {
   "cell_type": "code",
   "execution_count": 33,
   "id": "6fa2be22-ff71-4ec7-8e2a-34ad9e1cc213",
   "metadata": {},
   "outputs": [
    {
     "name": "stdout",
     "output_type": "stream",
     "text": [
      "time taken by list: 0.015856504440307617\n"
     ]
    }
   ],
   "source": [
    "#for list\n",
    "\n",
    "start_time = time.time()\n",
    "x = [i * 2 for i in list1]\n",
    "time_list = time.time() - start_time\n",
    "print(\"time taken by list:\", time_list)"
   ]
  },
  {
   "cell_type": "code",
   "execution_count": 36,
   "id": "f0d5ccb1-07eb-4192-a347-7bdc0eafd761",
   "metadata": {},
   "outputs": [
    {
     "name": "stdout",
     "output_type": "stream",
     "text": [
      "time taken by array: 0.0026357173919677734\n"
     ]
    }
   ],
   "source": [
    "#for array\n",
    "\n",
    "start_time = time.time()\n",
    "y = arr1 * 2\n",
    "time_arr = time.time() - start_time\n",
    "print(\"time taken by array:\", time_arr)"
   ]
  },
  {
   "cell_type": "code",
   "execution_count": 37,
   "id": "e8c2247d-d02c-4488-a7ad-392ca3354b13",
   "metadata": {},
   "outputs": [
    {
     "data": {
      "text/plain": [
       "13.725463591135233"
      ]
     },
     "execution_count": 37,
     "metadata": {},
     "output_type": "execute_result"
    }
   ],
   "source": [
    "time_list / time_arr"
   ]
  },
  {
   "cell_type": "markdown",
   "id": "b5c3d749-c3d5-4463-9f76-13ec3fc9b131",
   "metadata": {},
   "source": [
    "####arange"
   ]
  },
  {
   "cell_type": "code",
   "execution_count": 38,
   "id": "9faad9ff-6178-4262-93bd-c949cf2277f5",
   "metadata": {},
   "outputs": [],
   "source": [
    "a = np.arange(11)"
   ]
  },
  {
   "cell_type": "code",
   "execution_count": 39,
   "id": "6adf516b-2a0d-4394-8df8-33de2253ae2a",
   "metadata": {},
   "outputs": [
    {
     "data": {
      "text/plain": [
       "array([ 0,  1,  2,  3,  4,  5,  6,  7,  8,  9, 10])"
      ]
     },
     "execution_count": 39,
     "metadata": {},
     "output_type": "execute_result"
    }
   ],
   "source": [
    "a"
   ]
  },
  {
   "cell_type": "code",
   "execution_count": 40,
   "id": "cbcfc027-1d84-47d6-8a15-9323e790d16a",
   "metadata": {},
   "outputs": [
    {
     "data": {
      "text/plain": [
       "array([ 5,  6,  7,  8,  9, 10, 11, 12, 13, 14])"
      ]
     },
     "execution_count": 40,
     "metadata": {},
     "output_type": "execute_result"
    }
   ],
   "source": [
    "np.arange(5, 15)"
   ]
  },
  {
   "cell_type": "code",
   "execution_count": 41,
   "id": "169f51d9-1032-41e0-a8e0-de277f20b7d6",
   "metadata": {},
   "outputs": [
    {
     "data": {
      "text/plain": [
       "array([-5. , -4.5, -4. , -3.5, -3. , -2.5, -2. , -1.5, -1. , -0.5,  0. ,\n",
       "        0.5,  1. ,  1.5,  2. ,  2.5,  3. ,  3.5,  4. ,  4.5])"
      ]
     },
     "execution_count": 41,
     "metadata": {},
     "output_type": "execute_result"
    }
   ],
   "source": [
    "np.arange(-5, 5, 0.5)"
   ]
  },
  {
   "cell_type": "code",
   "execution_count": 42,
   "id": "910181a4-f176-4270-9432-88622c484ace",
   "metadata": {},
   "outputs": [
    {
     "data": {
      "text/plain": [
       "array([0., 0., 0., 0., 0.])"
      ]
     },
     "execution_count": 42,
     "metadata": {},
     "output_type": "execute_result"
    }
   ],
   "source": [
    "np.zeros(5)"
   ]
  },
  {
   "cell_type": "code",
   "execution_count": 43,
   "id": "d85ef6dc-9496-45a9-a276-038aa03e6727",
   "metadata": {},
   "outputs": [
    {
     "data": {
      "text/plain": [
       "array([1., 1., 1., 1., 1.])"
      ]
     },
     "execution_count": 43,
     "metadata": {},
     "output_type": "execute_result"
    }
   ],
   "source": [
    "np.ones(5)"
   ]
  },
  {
   "cell_type": "code",
   "execution_count": 44,
   "id": "40dc9da7-47f1-47f8-901e-778dc583acbb",
   "metadata": {},
   "outputs": [
    {
     "data": {
      "text/plain": [
       "1"
      ]
     },
     "execution_count": 44,
     "metadata": {},
     "output_type": "execute_result"
    }
   ],
   "source": [
    "arr.ndim"
   ]
  },
  {
   "cell_type": "markdown",
   "id": "b454dff5-dee0-4d50-8387-1bf1ed56a3ab",
   "metadata": {},
   "source": [
    "2-D arrays"
   ]
  },
  {
   "cell_type": "code",
   "execution_count": 46,
   "id": "6d8bea1a-15f2-4132-978e-045691fb50fe",
   "metadata": {},
   "outputs": [],
   "source": [
    "arr = np.array([[1,2,3],[4,2,5],[6,9,4],[6,3,9]])"
   ]
  },
  {
   "cell_type": "code",
   "execution_count": 47,
   "id": "c5df605f-28f2-4f16-bdcc-0c04fc2f1857",
   "metadata": {},
   "outputs": [
    {
     "data": {
      "text/plain": [
       "array([[1, 2, 3],\n",
       "       [4, 2, 5],\n",
       "       [6, 9, 4],\n",
       "       [6, 3, 9]])"
      ]
     },
     "execution_count": 47,
     "metadata": {},
     "output_type": "execute_result"
    }
   ],
   "source": [
    "arr"
   ]
  },
  {
   "cell_type": "code",
   "execution_count": 48,
   "id": "e7e47b0f-0616-40c4-a5cc-9581e1729724",
   "metadata": {},
   "outputs": [
    {
     "data": {
      "text/plain": [
       "12"
      ]
     },
     "execution_count": 48,
     "metadata": {},
     "output_type": "execute_result"
    }
   ],
   "source": [
    "arr.size"
   ]
  },
  {
   "cell_type": "code",
   "execution_count": 49,
   "id": "e855220c-11f9-4f79-a507-6a6901ac1765",
   "metadata": {},
   "outputs": [
    {
     "data": {
      "text/plain": [
       "(4, 3)"
      ]
     },
     "execution_count": 49,
     "metadata": {},
     "output_type": "execute_result"
    }
   ],
   "source": [
    "arr.shape"
   ]
  },
  {
   "cell_type": "code",
   "execution_count": 50,
   "id": "1934e7aa-26a6-4803-a06d-6a3c96349857",
   "metadata": {},
   "outputs": [
    {
     "data": {
      "text/plain": [
       "array([1, 2, 3, 4, 2, 5, 6, 9, 4, 6, 3, 9])"
      ]
     },
     "execution_count": 50,
     "metadata": {},
     "output_type": "execute_result"
    }
   ],
   "source": [
    "arr.flatten()"
   ]
  },
  {
   "cell_type": "code",
   "execution_count": 51,
   "id": "5bd2f0ef-029c-4d25-bc45-454767351252",
   "metadata": {},
   "outputs": [
    {
     "data": {
      "text/plain": [
       "1"
      ]
     },
     "execution_count": 51,
     "metadata": {},
     "output_type": "execute_result"
    }
   ],
   "source": [
    "arr.flatten().ndim"
   ]
  },
  {
   "cell_type": "code",
   "execution_count": 52,
   "id": "14b40668-d9c8-4eed-ba1d-03f98bbb6e2e",
   "metadata": {},
   "outputs": [
    {
     "data": {
      "text/plain": [
       "array([[1, 2, 3],\n",
       "       [4, 2, 5],\n",
       "       [6, 9, 4],\n",
       "       [6, 3, 9]])"
      ]
     },
     "execution_count": 52,
     "metadata": {},
     "output_type": "execute_result"
    }
   ],
   "source": [
    "arr"
   ]
  },
  {
   "cell_type": "code",
   "execution_count": 53,
   "id": "66431ad7-7945-4085-b52e-a3041f5cedff",
   "metadata": {},
   "outputs": [
    {
     "data": {
      "text/plain": [
       "array([[1, 2],\n",
       "       [3, 4],\n",
       "       [2, 5],\n",
       "       [6, 9],\n",
       "       [4, 6],\n",
       "       [3, 9]])"
      ]
     },
     "execution_count": 53,
     "metadata": {},
     "output_type": "execute_result"
    }
   ],
   "source": [
    "arr.reshape(6, 2)"
   ]
  },
  {
   "cell_type": "code",
   "execution_count": 54,
   "id": "33ee2f9b-c50f-4b00-982d-1c2e59fbaf7f",
   "metadata": {},
   "outputs": [
    {
     "data": {
      "text/plain": [
       "array([[1, 2, 3, 4, 2, 5],\n",
       "       [6, 9, 4, 6, 3, 9]])"
      ]
     },
     "execution_count": 54,
     "metadata": {},
     "output_type": "execute_result"
    }
   ],
   "source": [
    "arr.reshape(2, 6)\n"
   ]
  },
  {
   "cell_type": "code",
   "execution_count": 55,
   "id": "12b084b8-5a65-42f6-9e4c-67b7b68e78fe",
   "metadata": {},
   "outputs": [
    {
     "data": {
      "text/plain": [
       "array([[1, 2, 3, 4, 2, 5],\n",
       "       [6, 9, 4, 6, 3, 9]])"
      ]
     },
     "execution_count": 55,
     "metadata": {},
     "output_type": "execute_result"
    }
   ],
   "source": [
    "arr.reshape(2, -1)"
   ]
  },
  {
   "cell_type": "code",
   "execution_count": 58,
   "id": "6c16b93c-e36c-4471-92f1-ec546bff67b8",
   "metadata": {},
   "outputs": [
    {
     "name": "stdout",
     "output_type": "stream",
     "text": [
      "Welcome to Python 3.13's help utility! If this is your first time using\n",
      "Python, you should definitely check out the tutorial at\n",
      "https://docs.python.org/3.13/tutorial/.\n",
      "\n",
      "Enter the name of any module, keyword, or topic to get help on writing\n",
      "Python programs and using Python modules.  To get a list of available\n",
      "modules, keywords, symbols, or topics, enter \"modules\", \"keywords\",\n",
      "\"symbols\", or \"topics\".\n",
      "\n",
      "Each module also comes with a one-line summary of what it does; to list\n",
      "the modules whose name or summary contain a given string such as \"spam\",\n",
      "enter \"modules spam\".\n",
      "\n",
      "To quit this help utility and return to the interpreter,\n",
      "enter \"q\", \"quit\" or \"exit\".\n",
      "\n"
     ]
    },
    {
     "name": "stdin",
     "output_type": "stream",
     "text": [
      "help>  how to change dimenison of array\n"
     ]
    },
    {
     "name": "stdout",
     "output_type": "stream",
     "text": [
      "No Python documentation found for 'how to change dimenison of array'.\n",
      "Use help() to get the interactive help utility.\n",
      "Use help(str) for help on the str class.\n",
      "\n"
     ]
    },
    {
     "name": "stdin",
     "output_type": "stream",
     "text": [
      "help>  dimension\n"
     ]
    },
    {
     "name": "stdout",
     "output_type": "stream",
     "text": [
      "No Python documentation found for 'dimension'.\n",
      "Use help() to get the interactive help utility.\n",
      "Use help(str) for help on the str class.\n",
      "\n"
     ]
    },
    {
     "name": "stdin",
     "output_type": "stream",
     "text": [
      "help>  hi\n"
     ]
    },
    {
     "name": "stdout",
     "output_type": "stream",
     "text": [
      "No Python documentation found for 'hi'.\n",
      "Use help() to get the interactive help utility.\n",
      "Use help(str) for help on the str class.\n",
      "\n"
     ]
    },
    {
     "name": "stdin",
     "output_type": "stream",
     "text": [
      "help>  quit\n"
     ]
    },
    {
     "name": "stdout",
     "output_type": "stream",
     "text": [
      "\n",
      "You are now leaving help and returning to the Python interpreter.\n",
      "If you want to ask for help on a particular object directly from the\n",
      "interpreter, you can type \"help(object)\".  Executing \"help('string')\"\n",
      "has the same effect as typing a particular string at the help> prompt.\n"
     ]
    }
   ],
   "source": [
    "help()"
   ]
  },
  {
   "cell_type": "code",
   "execution_count": 61,
   "id": "710b997d-e8fa-4555-b9cb-362b0249ff41",
   "metadata": {},
   "outputs": [
    {
     "data": {
      "text/plain": [
       "array([[[1, 2],\n",
       "        [3, 4]],\n",
       "\n",
       "       [[2, 5],\n",
       "        [6, 9]],\n",
       "\n",
       "       [[4, 6],\n",
       "        [3, 9]]])"
      ]
     },
     "execution_count": 61,
     "metadata": {},
     "output_type": "execute_result"
    }
   ],
   "source": [
    "arr.reshape(3, 2 ,2)"
   ]
  },
  {
   "cell_type": "code",
   "execution_count": 63,
   "id": "e696bac0-c876-4c68-b16c-5e8ceb7d4d9c",
   "metadata": {},
   "outputs": [
    {
     "data": {
      "text/plain": [
       "2"
      ]
     },
     "execution_count": 63,
     "metadata": {},
     "output_type": "execute_result"
    }
   ],
   "source": [
    "arr.ndim"
   ]
  },
  {
   "cell_type": "markdown",
   "id": "67d771c9-b997-4126-8fe2-bd631cd17e36",
   "metadata": {},
   "source": [
    "slicing"
   ]
  },
  {
   "cell_type": "code",
   "execution_count": 64,
   "id": "c9e8b947-d5a5-452a-b78c-1e759336f6ce",
   "metadata": {},
   "outputs": [
    {
     "data": {
      "text/plain": [
       "array([[1, 2, 3],\n",
       "       [4, 2, 5],\n",
       "       [6, 9, 4],\n",
       "       [6, 3, 9]])"
      ]
     },
     "execution_count": 64,
     "metadata": {},
     "output_type": "execute_result"
    }
   ],
   "source": [
    "arr"
   ]
  },
  {
   "cell_type": "code",
   "execution_count": 65,
   "id": "42642ab7-457a-4ec0-8245-4c19dc5f99e8",
   "metadata": {},
   "outputs": [
    {
     "data": {
      "text/plain": [
       "array([ 3,  4,  5,  6,  7,  8,  9, 10, 11, 12])"
      ]
     },
     "execution_count": 65,
     "metadata": {},
     "output_type": "execute_result"
    }
   ],
   "source": [
    "arr1 = np.arange(3, 13)\n",
    "arr1"
   ]
  },
  {
   "cell_type": "code",
   "execution_count": 66,
   "id": "a9c6c3aa-5aa9-4a4a-8724-f96650e2f332",
   "metadata": {},
   "outputs": [
    {
     "data": {
      "text/plain": [
       "array([[6, 3, 9]])"
      ]
     },
     "execution_count": 66,
     "metadata": {},
     "output_type": "execute_result"
    }
   ],
   "source": [
    "arr[3:7]"
   ]
  },
  {
   "cell_type": "code",
   "execution_count": 67,
   "id": "e3c2f3e6-02b7-49cb-bbb4-25b9651fa3da",
   "metadata": {},
   "outputs": [
    {
     "data": {
      "text/plain": [
       "array([[4, 2],\n",
       "       [6, 9]])"
      ]
     },
     "execution_count": 67,
     "metadata": {},
     "output_type": "execute_result"
    }
   ],
   "source": [
    "arr[1:3, 0:2]"
   ]
  },
  {
   "cell_type": "code",
   "execution_count": 72,
   "id": "f314627c-2c0e-4ad3-aa3a-24db30927c37",
   "metadata": {},
   "outputs": [
    {
     "data": {
      "text/plain": [
       "array([[4, 2, 5],\n",
       "       [6, 9, 4]])"
      ]
     },
     "execution_count": 72,
     "metadata": {},
     "output_type": "execute_result"
    }
   ],
   "source": [
    "arr[1:3, 0:3]"
   ]
  },
  {
   "cell_type": "code",
   "execution_count": 73,
   "id": "194fb7d8-9449-4ef8-a749-7f9d2bfe896a",
   "metadata": {},
   "outputs": [
    {
     "data": {
      "text/plain": [
       "array([ 3,  4,  5,  6,  7,  8,  9, 10, 11, 12])"
      ]
     },
     "execution_count": 73,
     "metadata": {},
     "output_type": "execute_result"
    }
   ],
   "source": [
    "arr1"
   ]
  },
  {
   "cell_type": "code",
   "execution_count": 74,
   "id": "87a16538-079d-4965-83e4-b59e3908f6f9",
   "metadata": {},
   "outputs": [
    {
     "data": {
      "text/plain": [
       "np.float64(7.5)"
      ]
     },
     "execution_count": 74,
     "metadata": {},
     "output_type": "execute_result"
    }
   ],
   "source": [
    "np.mean(arr1)"
   ]
  },
  {
   "cell_type": "code",
   "execution_count": 75,
   "id": "1bc22c9c-e4b2-4010-b4ee-ed16db0c85c5",
   "metadata": {},
   "outputs": [
    {
     "data": {
      "text/plain": [
       "np.float64(2.8722813232690143)"
      ]
     },
     "execution_count": 75,
     "metadata": {},
     "output_type": "execute_result"
    }
   ],
   "source": [
    "np.std(arr1)"
   ]
  },
  {
   "cell_type": "markdown",
   "id": "70064c9a-75e1-44b3-8e67-48b8d35ac8ba",
   "metadata": {},
   "source": [
    "#### linear Algebra"
   ]
  },
  {
   "cell_type": "code",
   "execution_count": 78,
   "id": "7c88ede1-49b0-486d-8729-faabd6e4366a",
   "metadata": {},
   "outputs": [],
   "source": [
    "a = np.array([[1,4], [4,9]])\n",
    "b = np.array([[3,3], [10,1]])\n"
   ]
  },
  {
   "cell_type": "code",
   "execution_count": 79,
   "id": "dddce53e-838b-432a-9691-3e72cd1079ac",
   "metadata": {},
   "outputs": [
    {
     "data": {
      "text/plain": [
       "array([[1, 4],\n",
       "       [4, 9]])"
      ]
     },
     "execution_count": 79,
     "metadata": {},
     "output_type": "execute_result"
    }
   ],
   "source": [
    "a"
   ]
  },
  {
   "cell_type": "code",
   "execution_count": 80,
   "id": "f00a52be-5285-414b-a175-dcaaf13a443b",
   "metadata": {},
   "outputs": [
    {
     "data": {
      "text/plain": [
       "array([[ 3,  3],\n",
       "       [10,  1]])"
      ]
     },
     "execution_count": 80,
     "metadata": {},
     "output_type": "execute_result"
    }
   ],
   "source": [
    "b"
   ]
  },
  {
   "cell_type": "code",
   "execution_count": 81,
   "id": "98d3b79d-f058-4c2d-8530-40165bf91eb9",
   "metadata": {},
   "outputs": [
    {
     "data": {
      "text/plain": [
       "array([[ 43,   7],\n",
       "       [102,  21]])"
      ]
     },
     "execution_count": 81,
     "metadata": {},
     "output_type": "execute_result"
    }
   ],
   "source": [
    "np.dot(a,b)"
   ]
  },
  {
   "cell_type": "code",
   "execution_count": 83,
   "id": "0575e403-5610-409f-a6ad-594177f3193a",
   "metadata": {},
   "outputs": [
    {
     "data": {
      "text/plain": [
       "np.float64(-6.999999999999999)"
      ]
     },
     "execution_count": 83,
     "metadata": {},
     "output_type": "execute_result"
    }
   ],
   "source": [
    "np.linalg.det(a)"
   ]
  },
  {
   "cell_type": "code",
   "execution_count": 84,
   "id": "d11b08eb-33e4-4056-88ad-30ec4d0f45aa",
   "metadata": {},
   "outputs": [
    {
     "data": {
      "text/plain": [
       "array([[-1.28571429,  0.57142857],\n",
       "       [ 0.57142857, -0.14285714]])"
      ]
     },
     "execution_count": 84,
     "metadata": {},
     "output_type": "execute_result"
    }
   ],
   "source": [
    "np.linalg.inv(a)"
   ]
  },
  {
   "cell_type": "code",
   "execution_count": 85,
   "id": "466e13c1-67df-4129-b31e-320905e26bb5",
   "metadata": {},
   "outputs": [
    {
     "data": {
      "text/plain": [
       "EigResult(eigenvalues=array([-0.65685425, 10.65685425]), eigenvectors=array([[-0.92387953, -0.38268343],\n",
       "       [ 0.38268343, -0.92387953]]))"
      ]
     },
     "execution_count": 85,
     "metadata": {},
     "output_type": "execute_result"
    }
   ],
   "source": [
    "np.linalg.eig(a)"
   ]
  },
  {
   "cell_type": "code",
   "execution_count": 87,
   "id": "f71e7670-6d56-4a54-9664-279d8c6f9a0d",
   "metadata": {},
   "outputs": [],
   "source": [
    "# vector\n",
    "\n",
    "vec = np.array([3, 6])"
   ]
  },
  {
   "cell_type": "code",
   "execution_count": 88,
   "id": "203b3ff4-c149-4833-8acb-5ab8000255fa",
   "metadata": {},
   "outputs": [
    {
     "data": {
      "text/plain": [
       "np.float64(6.708203932499369)"
      ]
     },
     "execution_count": 88,
     "metadata": {},
     "output_type": "execute_result"
    }
   ],
   "source": [
    "np.linalg.norm(vec)"
   ]
  },
  {
   "cell_type": "markdown",
   "id": "19ad6807-b1a9-4311-8cd4-15e5b75140f9",
   "metadata": {},
   "source": [
    "# Practice questions"
   ]
  },
  {
   "cell_type": "markdown",
   "id": "d9079071-1ef0-4c5c-93a1-6c5ac05d4945",
   "metadata": {},
   "source": [
    "#create a numpy array of shape (3,3) wth values ranging from 1 t0 9"
   ]
  },
  {
   "cell_type": "code",
   "execution_count": 93,
   "id": "16eeffd4-b76b-4fe2-9c3a-638298ab1a15",
   "metadata": {},
   "outputs": [
    {
     "name": "stdout",
     "output_type": "stream",
     "text": [
      "[[1 2 3]\n",
      " [4 5 6]\n",
      " [7 8 9]]\n"
     ]
    }
   ],
   "source": [
    "arr = np.arange(1, 10).reshape(3,3)\n",
    "print(arr)"
   ]
  },
  {
   "cell_type": "markdown",
   "id": "bbfc88eb-ce06-4188-b92a-aaded70ab593",
   "metadata": {},
   "source": [
    "02_Given a 1D numpy array [10, 20, 30, 40, 50] write code to reverse the array"
   ]
  },
  {
   "cell_type": "code",
   "execution_count": 96,
   "id": "9019e774-f556-4cb8-a38b-120bf65f9556",
   "metadata": {},
   "outputs": [
    {
     "name": "stdout",
     "output_type": "stream",
     "text": [
      "[50 40 30 20 10]\n"
     ]
    }
   ],
   "source": [
    "arr = np.array([10, 20, 30, 40, 50])\n",
    "reversed_arr = arr[::-1]\n",
    "print(reversed_arr)"
   ]
  },
  {
   "cell_type": "markdown",
   "id": "87e756c6-9c01-4877-842d-259b3ea233e3",
   "metadata": {},
   "source": [
    "03_create a 5x5 numpy array filled with zeros and set the value of the middle element to 1"
   ]
  },
  {
   "cell_type": "code",
   "execution_count": 97,
   "id": "a27d9fe9-65d7-4b81-a234-1af724373e00",
   "metadata": {},
   "outputs": [
    {
     "name": "stdout",
     "output_type": "stream",
     "text": [
      "[[0. 0. 0. 0. 0.]\n",
      " [0. 0. 0. 0. 0.]\n",
      " [0. 0. 1. 0. 0.]\n",
      " [0. 0. 0. 0. 0.]\n",
      " [0. 0. 0. 0. 0.]]\n"
     ]
    }
   ],
   "source": [
    "arr = np.zeros((5, 5))  \n",
    "arr[2, 2] = 1 \n",
    "print(arr)"
   ]
  },
  {
   "cell_type": "markdown",
   "id": "1c2d35f4-ba9d-4ab6-8ab8-61e58c18fde0",
   "metadata": {},
   "source": [
    "04_generate a numpy array with 20 random integers between 1 and 100. replace all even numbers with -1"
   ]
  },
  {
   "cell_type": "code",
   "execution_count": 99,
   "id": "2f47a9a9-a29a-4e97-b40b-49a7c31db478",
   "metadata": {},
   "outputs": [
    {
     "name": "stdout",
     "output_type": "stream",
     "text": [
      "[-1 -1 -1  3 -1 11 45 -1 -1 29 37 -1 39 89 97 61 47 53 43 -1]\n"
     ]
    }
   ],
   "source": [
    "arr = np.random.randint(1, 101, size=20)  \n",
    "arr[arr % 2 == 0] = -1  \n",
    "print(arr)"
   ]
  },
  {
   "cell_type": "markdown",
   "id": "26e3f568-153e-4725-9e8b-47f2b0b89cfa",
   "metadata": {},
   "source": [
    "05_Given a numpy array a = np.array([[1, 2], [3, 4], [5, 6]]), extract the second column"
   ]
  },
  {
   "cell_type": "code",
   "execution_count": 108,
   "id": "43e97b46-2f37-494e-833b-87d224cc2e2a",
   "metadata": {},
   "outputs": [
    {
     "name": "stdout",
     "output_type": "stream",
     "text": [
      "[[1 2]\n",
      " [3 4]\n",
      " [5 6]]\n",
      "-----------\n",
      "[2 4 6]\n"
     ]
    }
   ],
   "source": [
    "a = np.array([[1, 2], [3, 4], [5, 6]])\n",
    "ex_arr = a[:, 1]\n",
    "print(a)\n",
    "print(\"-----------\")\n",
    "print(ex_arr)"
   ]
  },
  {
   "cell_type": "markdown",
   "id": "69521870-9c8c-46c3-9dc5-7fd1825978fb",
   "metadata": {},
   "source": [
    "#06_Create a NumPy array and convert to 2x2 matrix\n",
    "\n"
   ]
  },
  {
   "cell_type": "code",
   "execution_count": 2,
   "id": "3485709f-f441-460b-a043-cacbe64fed0f",
   "metadata": {},
   "outputs": [],
   "source": [
    "import numpy as np"
   ]
  },
  {
   "cell_type": "code",
   "execution_count": 3,
   "id": "f8eb5fb0-e253-46ce-adc9-cfdb1d23c2a2",
   "metadata": {},
   "outputs": [
    {
     "name": "stdout",
     "output_type": "stream",
     "text": [
      "2x2 Matrix:\n",
      " [[1 2]\n",
      " [3 4]]\n"
     ]
    }
   ],
   "source": [
    "\n",
    "arr = np.array([1, 2, 3, 4])\n",
    "matrix = arr.reshape(2, 2)\n",
    "print(\"2x2 Matrix:\\n\", matrix)\n"
   ]
  },
  {
   "cell_type": "markdown",
   "id": "ba82ebce-faf5-4bc1-944d-862260f39a3d",
   "metadata": {},
   "source": [
    "07_Element-wise operations on two 2x2 arrays"
   ]
  },
  {
   "cell_type": "code",
   "execution_count": 5,
   "id": "a458181a-7d96-4118-956c-fa6aea0f1ef1",
   "metadata": {},
   "outputs": [
    {
     "name": "stdout",
     "output_type": "stream",
     "text": [
      "Addition:\n",
      " [[ 6  8]\n",
      " [10 12]]\n",
      "---------------------\n",
      "Subtraction:\n",
      " [[-4 -4]\n",
      " [-4 -4]]\n",
      "---------------------\n",
      "Multiplication:\n",
      " [[ 5 12]\n",
      " [21 32]]\n",
      "---------------------\n",
      "Division:\n",
      " [[0.2        0.33333333]\n",
      " [0.42857143 0.5       ]]\n"
     ]
    }
   ],
   "source": [
    "a = np.array([[1, 2], [3, 4]])\n",
    "b = np.array([[5, 6], [7, 8]])\n",
    "\n",
    "add = a + b\n",
    "sub = a - b\n",
    "mul = a * b\n",
    "div = a / b\n",
    "\n",
    "print(\"Addition:\\n\", add)\n",
    "print(\"---------------------\")\n",
    "print(\"Subtraction:\\n\", sub)\n",
    "print(\"---------------------\")\n",
    "print(\"Multiplication:\\n\", mul)\n",
    "print(\"---------------------\")\n",
    "print(\"Division:\\n\", div)\n"
   ]
  },
  {
   "cell_type": "markdown",
   "id": "1c43438a-2908-4bf1-a5c1-d1194ab09ec3",
   "metadata": {},
   "source": [
    "08_10 linearly spaced values between 0 and 1\n"
   ]
  },
  {
   "cell_type": "code",
   "execution_count": 6,
   "id": "2517573f-e029-47f4-873a-1a13b7a611b9",
   "metadata": {},
   "outputs": [
    {
     "name": "stdout",
     "output_type": "stream",
     "text": [
      "Linearly spaced values:\n",
      " [0.         0.11111111 0.22222222 0.33333333 0.44444444 0.55555556\n",
      " 0.66666667 0.77777778 0.88888889 1.        ]\n"
     ]
    }
   ],
   "source": [
    "linear_values = np.linspace(0, 1, 10)\n",
    "print(\"Linearly spaced values:\\n\", linear_values)\n"
   ]
  },
  {
   "cell_type": "markdown",
   "id": "8e0038e7-4652-427e-b2e9-5cf928cadfc7",
   "metadata": {},
   "source": [
    "09_Compute mean, median, and standard deviation"
   ]
  },
  {
   "cell_type": "code",
   "execution_count": 9,
   "id": "ae195662-f51c-466a-8d69-c7a98e88ed1d",
   "metadata": {},
   "outputs": [
    {
     "name": "stdout",
     "output_type": "stream",
     "text": [
      "Help on _ArrayFunctionDispatcher in module numpy:\n",
      "\n",
      "mean(\n",
      "    a,\n",
      "    axis=None,\n",
      "    dtype=None,\n",
      "    out=None,\n",
      "    keepdims=<no value>,\n",
      "    *,\n",
      "    where=<no value>\n",
      ")\n",
      "    Compute the arithmetic mean along the specified axis.\n",
      "\n",
      "    Returns the average of the array elements.  The average is taken over\n",
      "    the flattened array by default, otherwise over the specified axis.\n",
      "    `float64` intermediate and return values are used for integer inputs.\n",
      "\n",
      "    Parameters\n",
      "    ----------\n",
      "    a : array_like\n",
      "        Array containing numbers whose mean is desired. If `a` is not an\n",
      "        array, a conversion is attempted.\n",
      "    axis : None or int or tuple of ints, optional\n",
      "        Axis or axes along which the means are computed. The default is to\n",
      "        compute the mean of the flattened array.\n",
      "\n",
      "        If this is a tuple of ints, a mean is performed over multiple axes,\n",
      "        instead of a single axis or all the axes as before.\n",
      "    dtype : data-type, optional\n",
      "        Type to use in computing the mean.  For integer inputs, the default\n",
      "        is `float64`; for floating point inputs, it is the same as the\n",
      "        input dtype.\n",
      "    out : ndarray, optional\n",
      "        Alternate output array in which to place the result.  The default\n",
      "        is ``None``; if provided, it must have the same shape as the\n",
      "        expected output, but the type will be cast if necessary.\n",
      "        See :ref:`ufuncs-output-type` for more details.\n",
      "        See :ref:`ufuncs-output-type` for more details.\n",
      "\n",
      "    keepdims : bool, optional\n",
      "        If this is set to True, the axes which are reduced are left\n",
      "        in the result as dimensions with size one. With this option,\n",
      "        the result will broadcast correctly against the input array.\n",
      "\n",
      "        If the default value is passed, then `keepdims` will not be\n",
      "        passed through to the `mean` method of sub-classes of\n",
      "        `ndarray`, however any non-default value will be.  If the\n",
      "        sub-class' method does not implement `keepdims` any\n",
      "        exceptions will be raised.\n",
      "\n",
      "    where : array_like of bool, optional\n",
      "        Elements to include in the mean. See `~numpy.ufunc.reduce` for details.\n",
      "\n",
      "        .. versionadded:: 1.20.0\n",
      "\n",
      "    Returns\n",
      "    -------\n",
      "    m : ndarray, see dtype parameter above\n",
      "        If `out=None`, returns a new array containing the mean values,\n",
      "        otherwise a reference to the output array is returned.\n",
      "\n",
      "    See Also\n",
      "    --------\n",
      "    average : Weighted average\n",
      "    std, var, nanmean, nanstd, nanvar\n",
      "\n",
      "    Notes\n",
      "    -----\n",
      "    The arithmetic mean is the sum of the elements along the axis divided\n",
      "    by the number of elements.\n",
      "\n",
      "    Note that for floating-point input, the mean is computed using the\n",
      "    same precision the input has.  Depending on the input data, this can\n",
      "    cause the results to be inaccurate, especially for `float32` (see\n",
      "    example below).  Specifying a higher-precision accumulator using the\n",
      "    `dtype` keyword can alleviate this issue.\n",
      "\n",
      "    By default, `float16` results are computed using `float32` intermediates\n",
      "    for extra precision.\n",
      "\n",
      "    Examples\n",
      "    --------\n",
      "    >>> import numpy as np\n",
      "    >>> a = np.array([[1, 2], [3, 4]])\n",
      "    >>> np.mean(a)\n",
      "    2.5\n",
      "    >>> np.mean(a, axis=0)\n",
      "    array([2., 3.])\n",
      "    >>> np.mean(a, axis=1)\n",
      "    array([1.5, 3.5])\n",
      "\n",
      "    In single precision, `mean` can be inaccurate:\n",
      "\n",
      "    >>> a = np.zeros((2, 512*512), dtype=np.float32)\n",
      "    >>> a[0, :] = 1.0\n",
      "    >>> a[1, :] = 0.1\n",
      "    >>> np.mean(a)\n",
      "    np.float32(0.54999924)\n",
      "\n",
      "    Computing the mean in float64 is more accurate:\n",
      "\n",
      "    >>> np.mean(a, dtype=np.float64)\n",
      "    0.55000000074505806 # may vary\n",
      "\n",
      "    Computing the mean in timedelta64 is available:\n",
      "\n",
      "    >>> b = np.array([1, 3], dtype=\"timedelta64[D]\")\n",
      "    >>> np.mean(b)\n",
      "    np.timedelta64(2,'D')\n",
      "\n",
      "    Specifying a where argument:\n",
      "\n",
      "    >>> a = np.array([[5, 9, 13], [14, 10, 12], [11, 15, 19]])\n",
      "    >>> np.mean(a)\n",
      "    12.0\n",
      "    >>> np.mean(a, where=[[True], [False], [False]])\n",
      "    9.0\n",
      "\n"
     ]
    }
   ],
   "source": [
    "help(np.mean)"
   ]
  },
  {
   "cell_type": "code",
   "execution_count": 10,
   "id": "7b2c0aee-e39e-48ac-ae05-1316b6df12df",
   "metadata": {},
   "outputs": [
    {
     "name": "stdout",
     "output_type": "stream",
     "text": [
      "Help on _ArrayFunctionDispatcher in module numpy:\n",
      "\n",
      "median(a, axis=None, out=None, overwrite_input=False, keepdims=False)\n",
      "    Compute the median along the specified axis.\n",
      "\n",
      "    Returns the median of the array elements.\n",
      "\n",
      "    Parameters\n",
      "    ----------\n",
      "    a : array_like\n",
      "        Input array or object that can be converted to an array.\n",
      "    axis : {int, sequence of int, None}, optional\n",
      "        Axis or axes along which the medians are computed. The default,\n",
      "        axis=None, will compute the median along a flattened version of\n",
      "        the array. If a sequence of axes, the array is first flattened\n",
      "        along the given axes, then the median is computed along the\n",
      "        resulting flattened axis.\n",
      "    out : ndarray, optional\n",
      "        Alternative output array in which to place the result. It must\n",
      "        have the same shape and buffer length as the expected output,\n",
      "        but the type (of the output) will be cast if necessary.\n",
      "    overwrite_input : bool, optional\n",
      "       If True, then allow use of memory of input array `a` for\n",
      "       calculations. The input array will be modified by the call to\n",
      "       `median`. This will save memory when you do not need to preserve\n",
      "       the contents of the input array. Treat the input as undefined,\n",
      "       but it will probably be fully or partially sorted. Default is\n",
      "       False. If `overwrite_input` is ``True`` and `a` is not already an\n",
      "       `ndarray`, an error will be raised.\n",
      "    keepdims : bool, optional\n",
      "        If this is set to True, the axes which are reduced are left\n",
      "        in the result as dimensions with size one. With this option,\n",
      "        the result will broadcast correctly against the original `arr`.\n",
      "\n",
      "    Returns\n",
      "    -------\n",
      "    median : ndarray\n",
      "        A new array holding the result. If the input contains integers\n",
      "        or floats smaller than ``float64``, then the output data-type is\n",
      "        ``np.float64``.  Otherwise, the data-type of the output is the\n",
      "        same as that of the input. If `out` is specified, that array is\n",
      "        returned instead.\n",
      "\n",
      "    See Also\n",
      "    --------\n",
      "    mean, percentile\n",
      "\n",
      "    Notes\n",
      "    -----\n",
      "    Given a vector ``V`` of length ``N``, the median of ``V`` is the\n",
      "    middle value of a sorted copy of ``V``, ``V_sorted`` - i\n",
      "    e., ``V_sorted[(N-1)/2]``, when ``N`` is odd, and the average of the\n",
      "    two middle values of ``V_sorted`` when ``N`` is even.\n",
      "\n",
      "    Examples\n",
      "    --------\n",
      "    >>> import numpy as np\n",
      "    >>> a = np.array([[10, 7, 4], [3, 2, 1]])\n",
      "    >>> a\n",
      "    array([[10,  7,  4],\n",
      "           [ 3,  2,  1]])\n",
      "    >>> np.median(a)\n",
      "    np.float64(3.5)\n",
      "    >>> np.median(a, axis=0)\n",
      "    array([6.5, 4.5, 2.5])\n",
      "    >>> np.median(a, axis=1)\n",
      "    array([7.,  2.])\n",
      "    >>> np.median(a, axis=(0, 1))\n",
      "    np.float64(3.5)\n",
      "    >>> m = np.median(a, axis=0)\n",
      "    >>> out = np.zeros_like(m)\n",
      "    >>> np.median(a, axis=0, out=m)\n",
      "    array([6.5,  4.5,  2.5])\n",
      "    >>> m\n",
      "    array([6.5,  4.5,  2.5])\n",
      "    >>> b = a.copy()\n",
      "    >>> np.median(b, axis=1, overwrite_input=True)\n",
      "    array([7.,  2.])\n",
      "    >>> assert not np.all(a==b)\n",
      "    >>> b = a.copy()\n",
      "    >>> np.median(b, axis=None, overwrite_input=True)\n",
      "    np.float64(3.5)\n",
      "    >>> assert not np.all(a==b)\n",
      "\n"
     ]
    }
   ],
   "source": [
    "help(np.median)"
   ]
  },
  {
   "cell_type": "code",
   "execution_count": 7,
   "id": "0d2dfe52-f17b-4ff6-950a-27fdb8fb0686",
   "metadata": {},
   "outputs": [
    {
     "name": "stdout",
     "output_type": "stream",
     "text": [
      "Mean: 30.0\n",
      "Median: 30.0\n",
      "Standard Deviation: 14.142135623730951\n"
     ]
    }
   ],
   "source": [
    "data = np.array([10, 20, 30, 40, 50])\n",
    "\n",
    "mean_val = np.mean(data)\n",
    "median_val = np.median(data)\n",
    "std_dev = np.std(data)\n",
    "\n",
    "print(\"Mean:\", mean_val)\n",
    "print(\"Median:\", median_val)\n",
    "print(\"Standard Deviation:\", std_dev)\n"
   ]
  },
  {
   "cell_type": "markdown",
   "id": "6ae5e478-6a43-4a2f-8a6d-903b2fc762e6",
   "metadata": {},
   "source": [
    "10_Normalize each column of a 2D array"
   ]
  },
  {
   "cell_type": "code",
   "execution_count": 8,
   "id": "2bd4cb01-416e-4a0d-b902-af59f309f263",
   "metadata": {},
   "outputs": [
    {
     "name": "stdout",
     "output_type": "stream",
     "text": [
      "Normalized array:\n",
      " [[-1.22474487 -1.22474487]\n",
      " [ 0.          0.        ]\n",
      " [ 1.22474487  1.22474487]]\n"
     ]
    }
   ],
   "source": [
    "def normalize_col(arr):\n",
    "    mean = np.mean(arr, axis=0)\n",
    "    std = np.std(arr, axis=0)\n",
    "    std[std == 0] = 1\n",
    "    return (arr - mean) / std\n",
    "\n",
    "data = np.array([[1, 2], [3, 4], [5, 6]])\n",
    "normalized = normalize_col(data)\n",
    "print(\"Normalized array:\\n\", normalized)\n"
   ]
  }
 ],
 "metadata": {
  "kernelspec": {
   "display_name": "Python 3 (ipykernel)",
   "language": "python",
   "name": "python3"
  },
  "language_info": {
   "codemirror_mode": {
    "name": "ipython",
    "version": 3
   },
   "file_extension": ".py",
   "mimetype": "text/x-python",
   "name": "python",
   "nbconvert_exporter": "python",
   "pygments_lexer": "ipython3",
   "version": "3.13.1"
  }
 },
 "nbformat": 4,
 "nbformat_minor": 5
}
